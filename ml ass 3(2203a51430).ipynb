{
  "nbformat": 4,
  "nbformat_minor": 0,
  "metadata": {
    "colab": {
      "provenance": []
    },
    "kernelspec": {
      "name": "python3",
      "display_name": "Python 3"
    },
    "language_info": {
      "name": "python"
    }
  },
  "cells": [
    {
      "cell_type": "code",
      "execution_count": 25,
      "metadata": {
        "colab": {
          "base_uri": "https://localhost:8080/"
        },
        "id": "xz3f9SgUrbJ8",
        "outputId": "942185c0-2f99-4a4d-d429-675503895c9a"
      },
      "outputs": [
        {
          "output_type": "stream",
          "name": "stdout",
          "text": [
            "       id  battery_power  blue  clock_speed  dual_sim  fc  four_g  int_memory  \\\n",
            "0       1           1043     1          1.8         1  14       0           5   \n",
            "1       2            841     1          0.5         1   4       1          61   \n",
            "2       3           1807     1          2.8         0   1       0          27   \n",
            "3       4           1546     0          0.5         1  18       1          25   \n",
            "4       5           1434     0          1.4         0  11       1          49   \n",
            "..    ...            ...   ...          ...       ...  ..     ...         ...   \n",
            "995   996           1700     1          1.9         0   0       1          54   \n",
            "996   997            609     0          1.8         1   0       0          13   \n",
            "997   998           1185     0          1.4         0   1       1           8   \n",
            "998   999           1533     1          0.5         1   0       0          50   \n",
            "999  1000           1270     1          0.5         0   4       1          35   \n",
            "\n",
            "     m_dep  mobile_wt  ...  pc  px_height  px_width   ram  sc_h  sc_w  \\\n",
            "0      0.1        193  ...  16        226      1412  3476    12     7   \n",
            "1      0.8        191  ...  12        746       857  3895     6     0   \n",
            "2      0.9        186  ...   4       1270      1366  2396    17    10   \n",
            "3      0.5         96  ...  20        295      1752  3893    10     0   \n",
            "4      0.5        108  ...  18        749       810  1773    15     8   \n",
            "..     ...        ...  ...  ..        ...       ...   ...   ...   ...   \n",
            "995    0.5        170  ...  17        644       913  2121    14     8   \n",
            "996    0.9        186  ...   2       1152      1632  1933     8     1   \n",
            "997    0.5         80  ...  12        477       825  1223     5     0   \n",
            "998    0.4        171  ...  12         38       832  2509    15    11   \n",
            "999    0.1        140  ...  19        457       608  2828     9     2   \n",
            "\n",
            "     talk_time  three_g  touch_screen  wifi  \n",
            "0            2        0             1     0  \n",
            "1            7        1             0     0  \n",
            "2           10        0             1     1  \n",
            "3            7        1             1     0  \n",
            "4            7        1             0     1  \n",
            "..         ...      ...           ...   ...  \n",
            "995         15        1             1     0  \n",
            "996         19        0             1     1  \n",
            "997         14        1             0     0  \n",
            "998          6        0             1     0  \n",
            "999          3        1             0     1  \n",
            "\n",
            "[1000 rows x 21 columns]\n",
            "      battery_power  blue  clock_speed  dual_sim  fc  four_g  int_memory  \\\n",
            "0               842     0          2.2         0   1       0           7   \n",
            "1              1021     1          0.5         1   0       1          53   \n",
            "2               563     1          0.5         1   2       1          41   \n",
            "3               615     1          2.5         0   0       0          10   \n",
            "4              1821     1          1.2         0  13       1          44   \n",
            "...             ...   ...          ...       ...  ..     ...         ...   \n",
            "1995            794     1          0.5         1   0       1           2   \n",
            "1996           1965     1          2.6         1   0       0          39   \n",
            "1997           1911     0          0.9         1   1       1          36   \n",
            "1998           1512     0          0.9         0   4       1          46   \n",
            "1999            510     1          2.0         1   5       1          45   \n",
            "\n",
            "      m_dep  mobile_wt  n_cores  ...  px_height  px_width   ram  sc_h  sc_w  \\\n",
            "0       0.6        188        2  ...         20       756  2549     9     7   \n",
            "1       0.7        136        3  ...        905      1988  2631    17     3   \n",
            "2       0.9        145        5  ...       1263      1716  2603    11     2   \n",
            "3       0.8        131        6  ...       1216      1786  2769    16     8   \n",
            "4       0.6        141        2  ...       1208      1212  1411     8     2   \n",
            "...     ...        ...      ...  ...        ...       ...   ...   ...   ...   \n",
            "1995    0.8        106        6  ...       1222      1890   668    13     4   \n",
            "1996    0.2        187        4  ...        915      1965  2032    11    10   \n",
            "1997    0.7        108        8  ...        868      1632  3057     9     1   \n",
            "1998    0.1        145        5  ...        336       670   869    18    10   \n",
            "1999    0.9        168        6  ...        483       754  3919    19     4   \n",
            "\n",
            "      talk_time  three_g  touch_screen  wifi  price_range  \n",
            "0            19        0             0     1            1  \n",
            "1             7        1             1     0            2  \n",
            "2             9        1             1     0            2  \n",
            "3            11        1             0     0            2  \n",
            "4            15        1             1     0            1  \n",
            "...         ...      ...           ...   ...          ...  \n",
            "1995         19        1             1     0            0  \n",
            "1996         16        1             1     1            2  \n",
            "1997          5        1             1     0            3  \n",
            "1998         19        1             1     1            0  \n",
            "1999          2        1             1     1            3  \n",
            "\n",
            "[2000 rows x 21 columns]\n"
          ]
        }
      ],
      "source": [
        " import pandas as pd\n",
        "\n",
        " d1=pd.read_csv('/content/test.csv')\n",
        " d2=pd.read_csv('/content/train.csv')\n",
        " print(d1)\n",
        " print(d2)"
      ]
    },
    {
      "cell_type": "code",
      "source": [
        "X= d2.drop('touch_screen',axis=1)\n",
        "y= d2['touch_screen']\n",
        "print(X)"
      ],
      "metadata": {
        "colab": {
          "base_uri": "https://localhost:8080/"
        },
        "id": "ffYVOpT8sxAX",
        "outputId": "71cecbee-15a1-47d1-d7b0-60b58cda4f24"
      },
      "execution_count": 26,
      "outputs": [
        {
          "output_type": "stream",
          "name": "stdout",
          "text": [
            "      battery_power  blue  clock_speed  dual_sim  fc  four_g  int_memory  \\\n",
            "0               842     0          2.2         0   1       0           7   \n",
            "1              1021     1          0.5         1   0       1          53   \n",
            "2               563     1          0.5         1   2       1          41   \n",
            "3               615     1          2.5         0   0       0          10   \n",
            "4              1821     1          1.2         0  13       1          44   \n",
            "...             ...   ...          ...       ...  ..     ...         ...   \n",
            "1995            794     1          0.5         1   0       1           2   \n",
            "1996           1965     1          2.6         1   0       0          39   \n",
            "1997           1911     0          0.9         1   1       1          36   \n",
            "1998           1512     0          0.9         0   4       1          46   \n",
            "1999            510     1          2.0         1   5       1          45   \n",
            "\n",
            "      m_dep  mobile_wt  n_cores  pc  px_height  px_width   ram  sc_h  sc_w  \\\n",
            "0       0.6        188        2   2         20       756  2549     9     7   \n",
            "1       0.7        136        3   6        905      1988  2631    17     3   \n",
            "2       0.9        145        5   6       1263      1716  2603    11     2   \n",
            "3       0.8        131        6   9       1216      1786  2769    16     8   \n",
            "4       0.6        141        2  14       1208      1212  1411     8     2   \n",
            "...     ...        ...      ...  ..        ...       ...   ...   ...   ...   \n",
            "1995    0.8        106        6  14       1222      1890   668    13     4   \n",
            "1996    0.2        187        4   3        915      1965  2032    11    10   \n",
            "1997    0.7        108        8   3        868      1632  3057     9     1   \n",
            "1998    0.1        145        5   5        336       670   869    18    10   \n",
            "1999    0.9        168        6  16        483       754  3919    19     4   \n",
            "\n",
            "      talk_time  three_g  wifi  price_range  \n",
            "0            19        0     1            1  \n",
            "1             7        1     0            2  \n",
            "2             9        1     0            2  \n",
            "3            11        1     0            2  \n",
            "4            15        1     0            1  \n",
            "...         ...      ...   ...          ...  \n",
            "1995         19        1     0            0  \n",
            "1996         16        1     1            2  \n",
            "1997          5        1     0            3  \n",
            "1998         19        1     1            0  \n",
            "1999          2        1     1            3  \n",
            "\n",
            "[2000 rows x 20 columns]\n"
          ]
        }
      ]
    },
    {
      "cell_type": "code",
      "source": [
        "x= d2.drop('touch_screen',axis=1)\n",
        "y= d2['touch_screen']\n",
        "print(x)\n"
      ],
      "metadata": {
        "id": "gJ5yxNMas9Gm",
        "colab": {
          "base_uri": "https://localhost:8080/"
        },
        "outputId": "21bff44f-ead8-4d3c-a9ae-e10c11e5a101"
      },
      "execution_count": 32,
      "outputs": [
        {
          "output_type": "stream",
          "name": "stdout",
          "text": [
            "      battery_power  blue  clock_speed  dual_sim  fc  four_g  int_memory  \\\n",
            "0               842     0          2.2         0   1       0           7   \n",
            "1              1021     1          0.5         1   0       1          53   \n",
            "2               563     1          0.5         1   2       1          41   \n",
            "3               615     1          2.5         0   0       0          10   \n",
            "4              1821     1          1.2         0  13       1          44   \n",
            "...             ...   ...          ...       ...  ..     ...         ...   \n",
            "1995            794     1          0.5         1   0       1           2   \n",
            "1996           1965     1          2.6         1   0       0          39   \n",
            "1997           1911     0          0.9         1   1       1          36   \n",
            "1998           1512     0          0.9         0   4       1          46   \n",
            "1999            510     1          2.0         1   5       1          45   \n",
            "\n",
            "      m_dep  mobile_wt  n_cores  pc  px_height  px_width   ram  sc_h  sc_w  \\\n",
            "0       0.6        188        2   2         20       756  2549     9     7   \n",
            "1       0.7        136        3   6        905      1988  2631    17     3   \n",
            "2       0.9        145        5   6       1263      1716  2603    11     2   \n",
            "3       0.8        131        6   9       1216      1786  2769    16     8   \n",
            "4       0.6        141        2  14       1208      1212  1411     8     2   \n",
            "...     ...        ...      ...  ..        ...       ...   ...   ...   ...   \n",
            "1995    0.8        106        6  14       1222      1890   668    13     4   \n",
            "1996    0.2        187        4   3        915      1965  2032    11    10   \n",
            "1997    0.7        108        8   3        868      1632  3057     9     1   \n",
            "1998    0.1        145        5   5        336       670   869    18    10   \n",
            "1999    0.9        168        6  16        483       754  3919    19     4   \n",
            "\n",
            "      talk_time  three_g  wifi  price_range  \n",
            "0            19        0     1            1  \n",
            "1             7        1     0            2  \n",
            "2             9        1     0            2  \n",
            "3            11        1     0            2  \n",
            "4            15        1     0            1  \n",
            "...         ...      ...   ...          ...  \n",
            "1995         19        1     0            0  \n",
            "1996         16        1     1            2  \n",
            "1997          5        1     0            3  \n",
            "1998         19        1     1            0  \n",
            "1999          2        1     1            3  \n",
            "\n",
            "[2000 rows x 20 columns]\n"
          ]
        }
      ]
    },
    {
      "cell_type": "code",
      "source": [
        " X_test =d2.drop('touch_screen',axis=1)\n",
        " y_test =d2['touch_screen']"
      ],
      "metadata": {
        "id": "Ho636zB3yYrF"
      },
      "execution_count": 33,
      "outputs": []
    },
    {
      "cell_type": "code",
      "source": [
        "from sklearn.model_selection import train_test_split\n",
        "X_train, X_test, y_train, y_test = train_test_split(X, y, test_size=0.2, random_state=42)"
      ],
      "metadata": {
        "id": "_v4c30yXyfAr"
      },
      "execution_count": 34,
      "outputs": []
    },
    {
      "cell_type": "code",
      "source": [
        " print(X_train)"
      ],
      "metadata": {
        "colab": {
          "base_uri": "https://localhost:8080/"
        },
        "id": "Q3eTSATZyjno",
        "outputId": "47cb9401-7413-4ecb-f3bf-bd1702a38b9f"
      },
      "execution_count": 35,
      "outputs": [
        {
          "output_type": "stream",
          "name": "stdout",
          "text": [
            "      battery_power  blue  clock_speed  dual_sim  fc  four_g  int_memory  \\\n",
            "968            1923     0          0.5         1   7       0          46   \n",
            "240             633     1          2.2         0   0       1          49   \n",
            "819            1236     0          0.9         1   2       1          57   \n",
            "692             781     0          1.1         0   2       0          38   \n",
            "420            1456     1          0.5         1   7       0           7   \n",
            "...             ...   ...          ...       ...  ..     ...         ...   \n",
            "1130           1975     1          1.9         1   2       0          31   \n",
            "1294            589     1          0.5         0   1       1          59   \n",
            "860            1829     1          0.5         0   0       1          15   \n",
            "1459           1927     0          0.9         1   3       0          11   \n",
            "1126            635     1          0.6         1   1       1          50   \n",
            "\n",
            "      m_dep  mobile_wt  n_cores  pc  px_height  px_width   ram  sc_h  sc_w  \\\n",
            "968     0.5        191        1  10        767      1759  1489    10     9   \n",
            "240     0.1        139        8   1        529      1009  3560    11     1   \n",
            "819     0.1        188        1  14        517       809  1406    14    12   \n",
            "692     0.4        198        5   7        304      1674  3508    13     8   \n",
            "420     0.4        105        5  12        823      1104  1587     6     5   \n",
            "...     ...        ...      ...  ..        ...       ...   ...   ...   ...   \n",
            "1130    0.9        151        1  17        775      1607  3022    13     5   \n",
            "1294    0.7        146        8   4        759      1858   362    16    10   \n",
            "860     0.4        160        5   7        729      1267  2080    16    11   \n",
            "1459    0.4        190        8  12        491      1506  2916    16    11   \n",
            "1126    0.3         97        5  13        193       989  2107    13    12   \n",
            "\n",
            "      talk_time  three_g  wifi  price_range  \n",
            "968           3        1     1            1  \n",
            "240          16        1     1            2  \n",
            "819          20        1     1            0  \n",
            "692           5        0     1            3  \n",
            "420          20        1     1            1  \n",
            "...         ...      ...   ...          ...  \n",
            "1130         19        0     1            3  \n",
            "1294          6        1     1            0  \n",
            "860          12        1     1            2  \n",
            "1459         18        0     1            3  \n",
            "1126         12        1     0            1  \n",
            "\n",
            "[1600 rows x 20 columns]\n"
          ]
        }
      ]
    },
    {
      "cell_type": "code",
      "source": [
        "print(y_train)"
      ],
      "metadata": {
        "colab": {
          "base_uri": "https://localhost:8080/"
        },
        "id": "N2xATp3H1N7T",
        "outputId": "74013163-d4bc-4824-eb48-70bd5806f792"
      },
      "execution_count": 36,
      "outputs": [
        {
          "output_type": "stream",
          "name": "stdout",
          "text": [
            "968     1\n",
            "240     1\n",
            "819     0\n",
            "692     0\n",
            "420     0\n",
            "       ..\n",
            "1130    0\n",
            "1294    1\n",
            "860     0\n",
            "1459    1\n",
            "1126    0\n",
            "Name: touch_screen, Length: 1600, dtype: int64\n"
          ]
        }
      ]
    },
    {
      "cell_type": "code",
      "source": [
        "from sklearn.preprocessing import MinMaxScaler\n",
        "scaler = MinMaxScaler()\n",
        "X_train_scaled = scaler.fit_transform(x)\n",
        "X_test_scaled = scaler.fit_transform(X_test)\n",
        "print(X_train_scaled)"
      ],
      "metadata": {
        "colab": {
          "base_uri": "https://localhost:8080/"
        },
        "id": "SUSjdgtbyopE",
        "outputId": "b5931598-0a3f-487b-e928-4430b258344b"
      },
      "execution_count": 37,
      "outputs": [
        {
          "output_type": "stream",
          "name": "stdout",
          "text": [
            "[[0.22778891 0.         0.68       ... 0.         1.         0.33333333]\n",
            " [0.34736139 1.         0.         ... 1.         0.         0.66666667]\n",
            " [0.04141617 1.         0.         ... 1.         0.         0.66666667]\n",
            " ...\n",
            " [0.94188377 0.         0.16       ... 1.         0.         1.        ]\n",
            " [0.6753507  0.         0.16       ... 1.         1.         0.        ]\n",
            " [0.00601202 1.         0.6        ... 1.         1.         1.        ]]\n"
          ]
        }
      ]
    },
    {
      "cell_type": "code",
      "source": [
        "from sklearn.linear_model import LogisticRegression\n",
        "from sklearn.metrics import accuracy_score\n",
        "model = LogisticRegression()\n",
        "model.fit(X_train_scaled, y)\n",
        "y_pred = model.predict(X_test_scaled)\n",
        "accuracy = accuracy_score(y_test, y_pred)\n",
        "print(f'Accuracy: {accuracy}')"
      ],
      "metadata": {
        "colab": {
          "base_uri": "https://localhost:8080/"
        },
        "id": "20ahYF-oys8_",
        "outputId": "842c289f-681d-4dbc-e51c-ea9325ee49ac"
      },
      "execution_count": 38,
      "outputs": [
        {
          "output_type": "stream",
          "name": "stdout",
          "text": [
            "Accuracy: 0.5425\n"
          ]
        }
      ]
    },
    {
      "cell_type": "code",
      "source": [
        "from sklearn.metrics import accuracy_score,precision_score,recall_score,confusion_matrix\n",
        "accuracy= accuracy_score(y_test,y_pred)\n",
        "precision =precision_score(y_test,y_pred,average='weighted')\n",
        "recall =recall_score(y_test,y_pred,average='weighted')\n",
        "conf_matrix= confusion_matrix(y_test, y_pred)\n",
        "print(\"Accuracy:\",accuracy)\n",
        "\n",
        "print(\"Precision:\", precision)\n",
        "print(\"Recall:\", recall)\n",
        "print(\"Confusion Matrix:\")\n",
        "print(conf_matrix)"
      ],
      "metadata": {
        "colab": {
          "base_uri": "https://localhost:8080/"
        },
        "id": "oBE_Pt4Ayy4z",
        "outputId": "eb2c2758-6e69-44a3-89fc-b2c8b61caf7c"
      },
      "execution_count": 39,
      "outputs": [
        {
          "output_type": "stream",
          "name": "stdout",
          "text": [
            "Accuracy: 0.5425\n",
            "Precision: 0.5436003185115903\n",
            "Recall: 0.5425\n",
            "Confusion Matrix:\n",
            "[[ 99 103]\n",
            " [ 80 118]]\n"
          ]
        }
      ]
    }
  ]
}